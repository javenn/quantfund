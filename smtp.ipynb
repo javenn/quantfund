{
 "cells": [
  {
   "cell_type": "code",
   "execution_count": 8,
   "metadata": {
    "collapsed": false
   },
   "outputs": [
    {
     "name": "stdout",
     "output_type": "stream",
     "text": [
      "send mail start\n",
      "发送成功\n"
     ]
    }
   ],
   "source": [
    "# -*- coding: UTF-8 -*-\n",
    "'''\n",
    "发送txt文本邮件\n",
    "'''\n",
    "import smtplib  \n",
    "from email.mime.text import MIMEText  \n",
    "\n",
    "\n",
    "mailto_list=[\"quantinfo@126.com\", \"avenn@126.com\"]\n",
    "\n",
    "mail_host=\"smtp.126.com\"  #设置服务器\n",
    "mail_user=\"quantinfo\"    #用户名\n",
    "mail_pass=\"quant2016\"   #口令 \n",
    "mail_postfix=\"126.com\"\n",
    "\n",
    "mail_host1=\"smtp.qq.com\"  #设置服务器\n",
    "mail_user1=\"164227856\"    #用户名\n",
    "mail_pass1=\"hvwtmsyngppsbgcc\"   #口令 \n",
    "mail_postfix1=\"qq.com\"\n",
    "\n",
    "def send_mail(to_list,sub,content):  \n",
    "    me=\"quantinfo\"+\"<\"+mail_user+\"@\"+mail_postfix+\">\"  \n",
    "    msg = MIMEText(content,_subtype='plain',_charset='gb2312')  \n",
    "    msg['Subject'] = sub  \n",
    "    msg['From'] = me  \n",
    "    msg['To'] = \";\".join(to_list)\n",
    "    \n",
    "    me1=\"quantinfoQQ\"+\"<\"+mail_user1+\"@\"+mail_postfix1+\">\"      \n",
    "    msg1 = MIMEText(content,_subtype='plain',_charset='gb2312')      \n",
    "    msg1['Subject'] = sub      \n",
    "    msg1['From'] = me1      \n",
    "    msg1['To'] = \";\".join(to_list) \n",
    "    \n",
    "    \n",
    "    try:  \n",
    "        server = smtplib.SMTP_SSL() \n",
    "        server1 = smtplib.SMTP_SSL()     \n",
    "        print \"send mail start\"\n",
    "        \n",
    "        server.connect(mail_host,\"465\")\n",
    "        server1.connect(mail_host1,\"465\")        \n",
    "        \n",
    "        \n",
    "        log_res = server.login(mail_user,mail_pass)  \n",
    "        log_res1 = server1.login(mail_user1,mail_pass1) \n",
    "        \n",
    "        send_res = server.sendmail(me, to_list, msg.as_string())  \n",
    "        send_res1 = server1.sendmail(me1, to_list, msg1.as_string())          \n",
    "        \n",
    "        server.close() \n",
    "        server1.close() \n",
    "        return True  \n",
    "    except Exception, e:  \n",
    "        print str(e)  \n",
    "        return False  \n",
    "if __name__ == '__main__':  \n",
    "    if send_mail(mailto_list,\"quant suggest\",\"hello world, try fund 110029!\"):  \n",
    "        print \"发送成功\"  \n",
    "    else:  \n",
    "        print \"发送失败\""
   ]
  },
  {
   "cell_type": "code",
   "execution_count": null,
   "metadata": {
    "collapsed": true
   },
   "outputs": [],
   "source": []
  }
 ],
 "metadata": {
  "kernelspec": {
   "display_name": "Python 2",
   "language": "python",
   "name": "python2"
  },
  "language_info": {
   "codemirror_mode": {
    "name": "ipython",
    "version": 2
   },
   "file_extension": ".py",
   "mimetype": "text/x-python",
   "name": "python",
   "nbconvert_exporter": "python",
   "pygments_lexer": "ipython2",
   "version": "2.7.6"
  }
 },
 "nbformat": 4,
 "nbformat_minor": 0
}
