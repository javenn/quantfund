{
 "cells": [
  {
   "cell_type": "code",
   "execution_count": 9,
   "metadata": {},
   "outputs": [
    {
     "ename": "SyntaxError",
     "evalue": "invalid syntax (<ipython-input-9-84dbcbfcf0be>, line 59)",
     "output_type": "error",
     "traceback": [
      "\u001b[0;36m  File \u001b[0;32m\"<ipython-input-9-84dbcbfcf0be>\"\u001b[0;36m, line \u001b[0;32m59\u001b[0m\n\u001b[0;31m    print index_data.head()\u001b[0m\n\u001b[0m                   ^\u001b[0m\n\u001b[0;31mSyntaxError\u001b[0m\u001b[0;31m:\u001b[0m invalid syntax\n"
     ]
    }
   ],
   "source": [
    "# -*- coding: utf-8 -*-\n",
    "\"\"\"\n",
    "@量化交流QQ群:461470781，欢迎交流\n",
    "\"\"\"\n",
    "import pandas as pd\n",
    "\n",
    "# ==========导入上证指数的原始数据\n",
    "# 注意：这里请填写数据文件在您电脑中的路径，并注意路径中斜杠的方向\n",
    "index_data = pd.read_csv('./stock_data/sh000001.csv', parse_dates=['date'])\n",
    "# 保留这几个需要的字段：'date', 'high', 'low', 'close', 'change'\n",
    "index_data = index_data[['date', 'high', 'low', 'close', 'change']]\n",
    "# 对数据按照【date】交易日期从小到大排序\n",
    "index_data.sort_values(by ='date', inplace = True)\n",
    "\n",
    "print(index_data.tail())\n",
    "\n",
    "# ==========计算海龟交易法则的买卖点\n",
    "# 设定海龟交易法则的两个参数，当收盘价大于最近N1天的最高价时买入，当收盘价低于最近N2天的最低价时卖出\n",
    "# 这两个参数可以自行调整大小，但是一般N1 > N2\n",
    "N1 = 20\n",
    "N2 = 10\n",
    "\n",
    "# 通过rolling_max方法计算最近N1个交易日的最高价\n",
    "index_data['最近N1个交易日的最高点'] =  pd.rolling_max(index_data['high'], N1)\n",
    "# 对于上市不足N1天的数据，取上市至今的最高价\n",
    "index_data['最近N1个交易日的最高点'].fillna(value=pd.expanding_max(index_data['high']), inplace=True)\n",
    "\n",
    "# 通过相似的方法计算最近N2个交易日的最低价\n",
    "index_data['最近N2个交易日的最低点'] =  pd.rolling_min(index_data['low'], N1)\n",
    "index_data['最近N2个交易日的最低点'].fillna(value=pd.expanding_min(index_data['low']), inplace=True)\n",
    "\n",
    "# 当当天的【close】> 昨天的【最近N1个交易日的最高点】时，将【收盘发出的信号】设定为1\n",
    "buy_index = index_data[index_data['close'] > index_data['最近N1个交易日的最高点'].shift(1)].index\n",
    "index_data.loc[buy_index, '收盘发出的信号'] = 1\n",
    "# 当当天的【close】< 昨天的【最近N2个交易日的最低点】时，将【收盘发出的信号】设定为0\n",
    "sell_index = index_data[index_data['close'] < index_data['最近N2个交易日的最低点'].shift(1)].index\n",
    "index_data.loc[sell_index, '收盘发出的信号'] = 0\n",
    "\n",
    "# 计算每天的仓位，当天持有上证指数时，仓位为1，当天不持有上证指数时，仓位为0\n",
    "index_data['当天的仓位'] = index_data['收盘发出的信号'].shift(1)\n",
    "index_data['当天的仓位'].fillna(method='ffill', inplace=True)\n",
    "\n",
    "# 取1992年之后的数据，排出较早的数据\n",
    "index_data = index_data[index_data['date'] >= pd.to_datetime('19930101')]\n",
    "\n",
    "# 当仓位为1时，买入上证指数，当仓位为0时，空仓。计算从19920101至今的资金指数\n",
    "index_data['资金指数'] = (index_data['change'] * index_data['当天的仓位'] + 1.0).cumprod()\n",
    "initial_idx = index_data.iloc[0]['close'] / (1 + index_data.iloc[0]['change'])\n",
    "index_data['资金指数'] *= initial_idx\n",
    "\n",
    "# 输出数据到指定文件\n",
    "index_data[['date', 'high', 'low', 'close', 'change', '最近N1个交易日的最高点',\n",
    "            '最近N2个交易日的最低点', '当天的仓位', '资金指数']].to_csv('turtle.csv', index=False, encoding='gbk')\n",
    "\n",
    "\n",
    "# ==========计算每年指数的收益以及海龟交易法则的收益\n",
    "index_data['海龟法则每日涨跌幅'] = index_data['change'] * index_data['当天的仓位']\n",
    "year_rtn = index_data.set_index('date')[['change', '海龟法则每日涨跌幅']].\\\n",
    "               resample('A', how=lambda x: (x+1.0).prod() - 1.0) * 100\n",
    "print(index_data.head())\n",
    "print (year_rtn)"
   ]
  },
  {
   "cell_type": "code",
   "execution_count": null,
   "metadata": {
    "collapsed": true
   },
   "outputs": [],
   "source": []
  }
 ],
 "metadata": {
  "kernelspec": {
   "display_name": "Python 3",
   "language": "python",
   "name": "python3"
  },
  "language_info": {
   "codemirror_mode": {
    "name": "ipython",
    "version": 3
   },
   "file_extension": ".py",
   "mimetype": "text/x-python",
   "name": "python",
   "nbconvert_exporter": "python",
   "pygments_lexer": "ipython3",
   "version": "3.6.1"
  }
 },
 "nbformat": 4,
 "nbformat_minor": 1
}
