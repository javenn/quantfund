{
 "cells": [
  {
   "cell_type": "code",
   "execution_count": 1,
   "metadata": {
    "collapsed": false
   },
   "outputs": [],
   "source": [
    "#  -*- coding: utf-8 -*-\n",
    "from urllib import urlencode\n",
    "import cookielib, urllib2\n",
    "# cookie\n",
    "cj = cookielib.LWPCookieJar()\n",
    "opener = urllib2.build_opener(urllib2.HTTPCookieProcessor(cj))\n",
    "urllib2.install_opener(opener)\n",
    "\n",
    "# Login\n",
    "user_data = {'DDDDD': 'username',\n",
    "             'upass': 'password',\n",
    "             '0MKKey':'cc(0)'\n",
    "            }\n",
    "url_data = urlencode(user_data)\n",
    "login_r = opener.open(\"https://e.efunds.com.cn/\", url_data)"
   ]
  },
  {
   "cell_type": "code",
   "execution_count": null,
   "metadata": {
    "collapsed": true
   },
   "outputs": [],
   "source": []
  }
 ],
 "metadata": {
  "kernelspec": {
   "display_name": "Python 2",
   "language": "python",
   "name": "python2"
  },
  "language_info": {
   "codemirror_mode": {
    "name": "ipython",
    "version": 2
   },
   "file_extension": ".py",
   "mimetype": "text/x-python",
   "name": "python",
   "nbconvert_exporter": "python",
   "pygments_lexer": "ipython2",
   "version": "2.7.6"
  }
 },
 "nbformat": 4,
 "nbformat_minor": 0
}
