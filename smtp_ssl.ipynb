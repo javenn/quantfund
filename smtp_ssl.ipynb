{
 "cells": [
  {
   "cell_type": "code",
   "execution_count": 14,
   "metadata": {
    "collapsed": false
   },
   "outputs": [
    {
     "name": "stdout",
     "output_type": "stream",
     "text": [
      "send mail start......................\n",
      "(220, 'smtp.qq.com Esmtp QQ Mail Server')\n",
      "(235, 'Authentication successful')\n",
      "{}\n",
      "发送成功\n"
     ]
    }
   ],
   "source": [
    "# -*- coding: UTF-8 -*-\n",
    "'''\n",
    "发送txt文本邮件\n",
    "'''\n",
    "import smtplib  \n",
    "from email.mime.text import MIMEText  \n",
    "\n",
    "\n",
    "mailto_list=[\"quantinfo@126.com\" ]\n",
    "\n",
    "mail_host=\"smtp.qq.com\"  #设置服务器\n",
    "mail_user=\"164227856\"    #用户名\n",
    "mail_pass=\"hvwtmsyngppsbgcc\"   #口令 \n",
    "mail_postfix=\"qq.com\"  #发件箱的后缀\n",
    "\n",
    "\n",
    "def send_mail(to_list,sub,content):  \n",
    "    me=\"quantinfo\"+\"<\"+mail_user+\"@\"+mail_postfix+\">\"  \n",
    "    msg = MIMEText(content,_subtype='plain',_charset='gb2312')  \n",
    "    msg['Subject'] = sub  \n",
    "    msg['From'] = me  \n",
    "    msg['To'] = \";\".join(to_list)  \n",
    "    try:  \n",
    "        server = smtplib.SMTP_SSL() \n",
    "             \n",
    "        print \"send mail start......................\"\n",
    "        con_res =server.connect(mail_host,\"465\")\n",
    "        print con_res\n",
    "        \n",
    "        log_res = server.login(mail_user,mail_pass)  \n",
    "        print log_res\n",
    "        \n",
    "        send_res = server.sendmail(me, to_list, msg.as_string())  \n",
    "        print send_res\n",
    "        \n",
    "        server.close()  \n",
    "        return True  \n",
    "    except Exception, e:  \n",
    "        print str(e)  \n",
    "        return False  \n",
    "if __name__ == '__main__':  \n",
    "    if send_mail(mailto_list,\"quant suggest\",\"hello world, try fund 110023!\"):  \n",
    "        print \"发送成功\"  \n",
    "    else:  \n",
    "        print \"发送失败\""
   ]
  },
  {
   "cell_type": "code",
   "execution_count": null,
   "metadata": {
    "collapsed": true
   },
   "outputs": [],
   "source": []
  }
 ],
 "metadata": {
  "kernelspec": {
   "display_name": "Python 2",
   "language": "python",
   "name": "python2"
  },
  "language_info": {
   "codemirror_mode": {
    "name": "ipython",
    "version": 2
   },
   "file_extension": ".py",
   "mimetype": "text/x-python",
   "name": "python",
   "nbconvert_exporter": "python",
   "pygments_lexer": "ipython2",
   "version": "2.7.6"
  }
 },
 "nbformat": 4,
 "nbformat_minor": 0
}
