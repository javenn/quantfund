{
 "cells": [
  {
   "cell_type": "code",
   "execution_count": 1,
   "metadata": {
    "collapsed": false
   },
   "outputs": [
    {
     "name": "stdout",
     "output_type": "stream",
     "text": [
      "        date     high      low    close    change\n",
      "4 2014-12-25  3073.35  2969.87  3072.54  0.033643\n",
      "3 2014-12-26  3164.16  3064.18  3157.60  0.027686\n",
      "2 2014-12-29  3223.86  3126.94  3168.02  0.003298\n",
      "1 2014-12-30  3190.30  3130.35  3165.82 -0.000695\n",
      "0 2014-12-31  3239.36  3157.26  3234.68  0.021752\n",
      "\n",
      "[5 rows x 5 columns]\n",
      "          date     high      low    close    change  最近N1个交易日的最高点  \\\n",
      "482 2013-01-04  2296.11  2256.56  2276.99  0.003466       2296.11   \n",
      "481 2013-01-07  2293.32  2266.86  2285.36  0.003677       2296.11   \n",
      "480 2013-01-08  2289.14  2262.98  2276.07 -0.004067       2296.11   \n",
      "479 2013-01-09  2283.90  2259.05  2275.34 -0.000321       2296.11   \n",
      "478 2013-01-10  2295.48  2268.65  2283.66  0.003656       2296.11   \n",
      "\n",
      "     最近N2个交易日的最低点  收盘发出的信号  当天的仓位  资金指数  海龟法则每日涨跌幅  \n",
      "482       2256.56      NaN    NaN   NaN        NaN  \n",
      "481       2256.56      NaN    NaN   NaN        NaN  \n",
      "480       2256.56      NaN    NaN   NaN        NaN  \n",
      "479       2256.56      NaN    NaN   NaN        NaN  \n",
      "478       2256.56      NaN    NaN   NaN        NaN  \n",
      "\n",
      "[5 rows x 11 columns]\n",
      "               change  海龟法则每日涨跌幅\n",
      "date                            \n",
      "2013-12-31  -6.749289  -8.948752\n",
      "2014-12-31  52.869122  42.932672\n",
      "\n",
      "[2 rows x 2 columns]\n"
     ]
    }
   ],
   "source": [
    "# -*- coding: utf-8 -*-\n",
    "\"\"\"\n",
    "@量化交流QQ群:461470781，欢迎交流\n",
    "\"\"\"\n",
    "import pandas as pd\n",
    "\n",
    "# ==========导入上证指数的原始数据\n",
    "# 注意：这里请填写数据文件在您电脑中的路径，并注意路径中斜杠的方向\n",
    "index_data = pd.read_csv('../stock_data/sh000001.csv', parse_dates=['date'])\n",
    "# 保留这几个需要的字段：'date', 'high', 'low', 'close', 'change'\n",
    "index_data = index_data[['date', 'high', 'low', 'close', 'change']]\n",
    "# 对数据按照【date】交易日期从小到大排序\n",
    "index_data.sort('date', inplace=True)\n",
    "\n",
    "print index_data.tail(5)\n",
    "\n",
    "# ==========计算海龟交易法则的买卖点\n",
    "# 设定海龟交易法则的两个参数，当收盘价大于最近N1天的最高价时买入，当收盘价低于最近N2天的最低价时卖出\n",
    "# 这两个参数可以自行调整大小，但是一般N1 > N2\n",
    "N1 = 20\n",
    "N2 = 10\n",
    "\n",
    "# 通过rolling_max方法计算最近N1个交易日的最高价\n",
    "index_data['最近N1个交易日的最高点'] =  pd.rolling_max(index_data['high'], N1)\n",
    "# 对于上市不足N1天的数据，取上市至今的最高价\n",
    "index_data['最近N1个交易日的最高点'].fillna(value=pd.expanding_max(index_data['high']), inplace=True)\n",
    "\n",
    "# 通过相似的方法计算最近N2个交易日的最低价\n",
    "index_data['最近N2个交易日的最低点'] =  pd.rolling_min(index_data['low'], N1)\n",
    "index_data['最近N2个交易日的最低点'].fillna(value=pd.expanding_min(index_data['low']), inplace=True)\n",
    "\n",
    "# 当当天的【close】> 昨天的【最近N1个交易日的最高点】时，将【收盘发出的信号】设定为1\n",
    "buy_index = index_data[index_data['close'] > index_data['最近N1个交易日的最高点'].shift(1)].index\n",
    "index_data.loc[buy_index, '收盘发出的信号'] = 1\n",
    "# 当当天的【close】< 昨天的【最近N2个交易日的最低点】时，将【收盘发出的信号】设定为0\n",
    "sell_index = index_data[index_data['close'] < index_data['最近N2个交易日的最低点'].shift(1)].index\n",
    "index_data.loc[sell_index, '收盘发出的信号'] = 0\n",
    "\n",
    "# 计算每天的仓位，当天持有上证指数时，仓位为1，当天不持有上证指数时，仓位为0\n",
    "index_data['当天的仓位'] = index_data['收盘发出的信号'].shift(1)\n",
    "index_data['当天的仓位'].fillna(method='ffill', inplace=True)\n",
    "\n",
    "# 取1992年之后的数据，排出较早的数据\n",
    "index_data = index_data[index_data['date'] >= pd.to_datetime('19930101')]\n",
    "\n",
    "# 当仓位为1时，买入上证指数，当仓位为0时，空仓。计算从19920101至今的资金指数\n",
    "index_data['资金指数'] = (index_data['change'] * index_data['当天的仓位'] + 1.0).cumprod()\n",
    "initial_idx = index_data.iloc[0]['close'] / (1 + index_data.iloc[0]['change'])\n",
    "index_data['资金指数'] *= initial_idx\n",
    "\n",
    "# 输出数据到指定文件\n",
    "index_data[['date', 'high', 'low', 'close', 'change', '最近N1个交易日的最高点',\n",
    "            '最近N2个交易日的最低点', '当天的仓位', '资金指数']].to_csv('turtle.csv', index=False, encoding='gbk')\n",
    "\n",
    "\n",
    "# ==========计算每年指数的收益以及海龟交易法则的收益\n",
    "index_data['海龟法则每日涨跌幅'] = index_data['change'] * index_data['当天的仓位']\n",
    "year_rtn = index_data.set_index('date')[['change', '海龟法则每日涨跌幅']].\\\n",
    "               resample('A', how=lambda x: (x+1.0).prod() - 1.0) * 100\n",
    "print index_data.head()\n",
    "print year_rtn"
   ]
  },
  {
   "cell_type": "code",
   "execution_count": null,
   "metadata": {
    "collapsed": true
   },
   "outputs": [],
   "source": []
  }
 ],
 "metadata": {
  "kernelspec": {
   "display_name": "Python 2",
   "language": "python",
   "name": "python2"
  },
  "language_info": {
   "codemirror_mode": {
    "name": "ipython",
    "version": 2
   },
   "file_extension": ".py",
   "mimetype": "text/x-python",
   "name": "python",
   "nbconvert_exporter": "python",
   "pygments_lexer": "ipython2",
   "version": "2.7.6"
  }
 },
 "nbformat": 4,
 "nbformat_minor": 0
}
