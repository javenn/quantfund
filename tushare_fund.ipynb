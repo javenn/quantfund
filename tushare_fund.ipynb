{
 "cells": [
  {
   "cell_type": "code",
   "execution_count": 1,
   "metadata": {},
   "outputs": [
    {
     "ename": "SyntaxError",
     "evalue": "invalid syntax (<ipython-input-1-8c60775b9286>, line 20)",
     "output_type": "error",
     "traceback": [
      "\u001b[0;36m  File \u001b[0;32m\"<ipython-input-1-8c60775b9286>\"\u001b[0;36m, line \u001b[0;32m20\u001b[0m\n\u001b[0;31m    print stock_data.tail()\u001b[0m\n\u001b[0m                   ^\u001b[0m\n\u001b[0;31mSyntaxError\u001b[0m\u001b[0;31m:\u001b[0m invalid syntax\n"
     ]
    }
   ],
   "source": [
    "#_*_ coding: utf-8 _*_\n",
    "%matplotlib inline\n",
    "\n",
    "import tushare as ts\n",
    "import time\n",
    "import pandas as pd\n",
    "import seaborn as sns\n",
    "import matplotlib.pyplot as plt\n",
    "\n",
    "\n",
    "ts.set_token('7533a8730716bd37588bef23157841f5da972c766fc09e2fd62ce8ce1890261e')\n",
    "ma_list = [5,20,60]\n",
    "fd = ts.Fund()\n",
    "\n",
    "upDate = time.strftime(\"%Y%m%d\",time.localtime())\n",
    "bgDate = '20160601'\n",
    "\n",
    "stock_data = fd.FundNav(ticker='110011', beginDate= bgDate, endDate = upDate)#,field= 'endDate,ACCUM_NAV,NAV')\n",
    "\n",
    "print stock_data.tail()\n",
    "\n",
    "\n",
    "for ma in ma_list:\n",
    "    stock_data['MA_'+str(ma)] = pd.rolling_mean(stock_data['ACCUM_NAV'],ma)\n",
    "    \n",
    "for ma in ma_list:\n",
    "    stock_data['EMA_'+str(ma)] = pd.ewma(stock_data['ACCUM_NAV'],span = ma)\n",
    "\n",
    "stock_data.sort('endDate', ascending = False,inplace = True)\n",
    "#stock_data.to_csv('stock_data/fund110029_ma_ema.csv', index=False)\n",
    "\n",
    "stock_data_MA = [stock_data.endDate,stock_data.MA_5,stock_data.MA_20,stock_data.EMA_5,stock_data.EMA_20]\n",
    "\n",
    "plt.figure()\n",
    "#plt.autofmt_xdate()\n",
    "plt.figure().add_subplot(1,1,1)\n",
    "\n",
    "stock_data.MA_5.plot()\n",
    "stock_data.MA_20.plot()\n",
    "#stock_data.MA_60.plot()\n",
    "stock_data.ACCUM_NAV.plot()\n",
    "plt.legend(loc='best')"
   ]
  },
  {
   "cell_type": "code",
   "execution_count": null,
   "metadata": {
    "collapsed": true
   },
   "outputs": [],
   "source": []
  }
 ],
 "metadata": {
  "kernelspec": {
   "display_name": "Python 3",
   "language": "python",
   "name": "python3"
  },
  "language_info": {
   "codemirror_mode": {
    "name": "ipython",
    "version": 3
   },
   "file_extension": ".py",
   "mimetype": "text/x-python",
   "name": "python",
   "nbconvert_exporter": "python",
   "pygments_lexer": "ipython3",
   "version": "3.6.1"
  }
 },
 "nbformat": 4,
 "nbformat_minor": 1
}
